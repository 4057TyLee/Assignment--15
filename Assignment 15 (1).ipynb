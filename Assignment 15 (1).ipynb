{
 "cells": [
  {
   "cell_type": "code",
   "execution_count": 2,
   "id": "5214233c-561c-432c-a3e8-56ece0053247",
   "metadata": {},
   "outputs": [],
   "source": [
    "#The desired output for n=100 :\n",
    "\n",
    "# [2, 3, 5, 7, 11, 13, 17, 19, 23, 29, 31, 37, 41, 43, 47, 53, 59,\n",
    "# 61, 67, 71, 73, 79, 83, 89, 97]"
   ]
  },
  {
   "cell_type": "code",
   "execution_count": 1,
   "id": "d3a46243-9c12-4003-a55e-0073d0c6e05d",
   "metadata": {},
   "outputs": [
    {
     "name": "stdout",
     "output_type": "stream",
     "text": [
      "[2, 3, 5, 7, 11, 13, 17, 19, 23, 29, 31, 37, 41, 43, 47, 53, 59, 61, 67, 71, 73, 79, 83, 89, 97]\n"
     ]
    }
   ],
   "source": [
    "prime_list = []\n",
    "\n",
    "for num in range(2, 100):\n",
    "        \n",
    "        status = True\n",
    "    \n",
    "        for i in range(2, num) :\n",
    "            \n",
    "            if num % i == 0:\n",
    "                \n",
    "                status = False\n",
    "                \n",
    "        if status:\n",
    "            \n",
    "            prime_list.append(num)\n",
    "        \n",
    "print(prime_list)                   "
   ]
  }
 ],
 "metadata": {
  "kernelspec": {
   "display_name": "Python 3 (ipykernel)",
   "language": "python",
   "name": "python3"
  },
  "language_info": {
   "codemirror_mode": {
    "name": "ipython",
    "version": 3
   },
   "file_extension": ".py",
   "mimetype": "text/x-python",
   "name": "python",
   "nbconvert_exporter": "python",
   "pygments_lexer": "ipython3",
   "version": "3.9.12"
  }
 },
 "nbformat": 4,
 "nbformat_minor": 5
}
